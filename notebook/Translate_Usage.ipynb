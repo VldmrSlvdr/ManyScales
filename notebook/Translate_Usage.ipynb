{
  "cells": [
    {
      "cell_type": "raw",
      "metadata": {
        "vscode": {
          "languageId": "raw"
        }
      },
      "source": [
        "# LLM Translate — Translation Usage\n",
        "\n",
        "This notebook demonstrates forward translation, optional back-translation, and reconciliation using the config files.\n"
      ]
    },
    {
      "cell_type": "code",
      "execution_count": null,
      "metadata": {},
      "outputs": [],
      "source": [
        "import os, json\n",
        "from pathlib import Path\n",
        "import pandas as pd\n",
        "\n",
        "# Adjust paths if running from elsewhere\n",
        "repo = Path('..').resolve()\n",
        "cfg_path = repo / 'configs' / 'translation_config.yaml'\n",
        "\n",
        "# Show config path\n",
        "print('Using config:', cfg_path)\n"
      ]
    },
    {
      "cell_type": "code",
      "execution_count": null,
      "metadata": {},
      "outputs": [],
      "source": [
        "import sys\n",
        "sys.path.insert(0, str(repo))\n",
        "\n",
        "from llm_translate.config import ConfigLoader, ConfigValidator\n",
        "from llm_translate.translation import Translator\n",
        "from llm_translate.utils import load_data, save_results\n",
        "\n",
        "config = ConfigLoader.load_yaml(cfg_path)\n",
        "config = ConfigLoader.maybe_load_prompt_file(config, base_dir=cfg_path.parent)\n",
        "ConfigValidator.validate_translation_config(config)\n",
        "config\n"
      ]
    },
    {
      "cell_type": "code",
      "execution_count": null,
      "metadata": {},
      "outputs": [],
      "source": [
        "# Load input items\n",
        "df = load_data(repo / config['input_file'])\n",
        "df.head()\n"
      ]
    },
    {
      "cell_type": "code",
      "execution_count": null,
      "metadata": {},
      "outputs": [],
      "source": [
        "# Initialize translator\n",
        "translator = Translator(\n",
        "    model=config['model'],\n",
        "    openai_api_key=config.get('openai_api_key'),\n",
        "    gemini_api_key=config.get('gemini_api_key'),\n",
        "    temperature=config.get('temperature', 0.0),\n",
        "    effort=config.get('effort', 'medium')\n",
        ")\n",
        "\n",
        "# Flags\n",
        "do_back = bool(config.get('do_back', False))\n",
        "do_recon = bool(config.get('do_recon', False)) and do_back\n"
      ]
    }
  ],
  "metadata": {
    "language_info": {
      "name": "python"
    }
  },
  "nbformat": 4,
  "nbformat_minor": 2
}
